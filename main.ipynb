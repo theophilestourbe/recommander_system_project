{
 "cells": [
  {
   "cell_type": "code",
   "execution_count": 1,
   "id": "d847c2be",
   "metadata": {},
   "outputs": [],
   "source": [
    "import numpy as np\n",
    "import scipy.linalg as lin\n",
    "import matplotlib.pylab as plt\n",
    "\n",
    "%matplotlib inline\n",
    "\n",
    "np.set_printoptions(precision=3, linewidth=150, suppress=True)"
   ]
  },
  {
   "cell_type": "code",
   "execution_count": 2,
   "id": "d9b19eeb",
   "metadata": {},
   "outputs": [],
   "source": [
    "def solve_triangular(L,b):\n",
    "    x = np.copy(b)\n",
    "    x[0] = b[0] / L[0,0]\n",
    "    for i in range(1,len(x)):\n",
    "        x[i] = (b[i] - L[i,:i] @ x[:i]) / L[i,i]\n",
    "    return x\n",
    "\n",
    "def gauss_seidel_r(A, b, x0, w, n):\n",
    "    D = np.diag(np.diag(A))\n",
    "    L = np.tril(A, -1)\n",
    "    U = np.triu(A, 1)\n",
    "    LD_w = D / w + L\n",
    "    D_U = ((1-w) / w) * D - U\n",
    "    x = [x0]\n",
    "    for i in range(n):\n",
    "        x0 = solve_triangular(LD_w, (D_U @ x0) + b)\n",
    "        x.append(x0)\n",
    "    return x"
   ]
  },
  {
   "cell_type": "code",
   "execution_count": 3,
   "id": "077ee5b6",
   "metadata": {},
   "outputs": [
    {
     "name": "stdout",
     "output_type": "stream",
     "text": [
      "[1. 1. 1. 1.]\n"
     ]
    }
   ],
   "source": [
    "np.random.seed(123)\n",
    "A = np.random.randint(10, size=(4,4))\n",
    "b = A.sum(axis=1)\n",
    "x0 = np.random.random(4)\n",
    "\n",
    "res = gauss_seidel_r(A, b, x0, w=0.2, n=100)\n",
    "print(res[-1])"
   ]
  },
  {
   "cell_type": "code",
   "execution_count": 4,
   "id": "63903b90",
   "metadata": {},
   "outputs": [],
   "source": [
    "def plot_convergences(values, result):\n",
    "    error = np.square(values - result).sum(axis = -1) / np.square(result).sum(axis=-1)\n",
    "    error2 = np.square(np.diff(values)).sum(axis = -1) / np.square(values).sum(axis=-1)\n",
    "    fig, (ax1, ax2) = plt.subplots(1, 2, figsize=(14,4))\n",
    "    ax1.plot(range(len(error)), error)\n",
    "    ax1.set_title('Erreur absolue normalisée')\n",
    "    ax1.semilogy();\n",
    "    ax2.plot(range(len(error2)), error2)\n",
    "    ax2.set_title('Erreur relative normalisée')\n",
    "    ax2.semilogy()\n",
    "    print(\"Itération du minimum :\",np.argmin(error), np.argmin(error2))"
   ]
  },
  {
   "cell_type": "code",
   "execution_count": 5,
   "id": "7d3235b8",
   "metadata": {},
   "outputs": [
    {
     "name": "stdout",
     "output_type": "stream",
     "text": [
      "Itération du minimum : 100 100\n"
     ]
    },
    {
     "data": {
      "image/png": "[encoded data removed]",
      "text/plain": [
       "<Figure size 1008x288 with 2 Axes>"
      ]
     },
     "metadata": {
      "needs_background": "light"
     },
     "output_type": "display_data"
    }
   ],
   "source": [
    "plot_convergences(res, np.ones(4))"
   ]
  },
  {
   "cell_type": "code",
   "execution_count": 15,
   "id": "1a2ca233",
   "metadata": {},
   "outputs": [],
   "source": [
    "def find_seed():\n",
    "    i = 0\n",
    "    ones = np.ones(4)\n",
    "    opt = 1e-2\n",
    "    opt0 = 1000\n",
    "    seed = i\n",
    "    while True:\n",
    "        np.random.seed(i)\n",
    "        i += 1\n",
    "        A = np.random.randint(10, size=(4,4))\n",
    "        b = A.sum(axis=1)\n",
    "        x0 = np.random.random(4)\n",
    "\n",
    "        try:\n",
    "            res = gauss_seidel_r(A, b, x0, w=0.2, n=500)\n",
    "            res0 = gauss_seidel_r(A, b, x0, w=1, n=500)\n",
    "            e = np.abs(ones - res[-1])\n",
    "            e0 = np.abs(ones - res0[-1])\n",
    "            dist = e.sum()\n",
    "            dist0 = e0.sum()\n",
    "            if dist < opt and dist0 > opt0:\n",
    "                opt = dist\n",
    "                opt0 = dist0\n",
    "                print(i)\n",
    "        except RuntimeWarning:\n",
    "            continue"
   ]
  },
  {
   "cell_type": "code",
   "execution_count": 16,
   "id": "b4a214a6",
   "metadata": {},
   "outputs": [
    {
     "name": "stderr",
     "output_type": "stream",
     "text": [
      "<ipython-input-2-3a34c5dded66>:5: RuntimeWarning: divide by zero encountered in double_scalars\n",
      "  x[i] = (b[i] - L[i,:i] @ x[:i]) / L[i,i]\n",
      "<ipython-input-2-3a34c5dded66>:5: RuntimeWarning: invalid value encountered in matmul\n",
      "  x[i] = (b[i] - L[i,:i] @ x[:i]) / L[i,i]\n",
      "<ipython-input-2-3a34c5dded66>:16: RuntimeWarning: invalid value encountered in matmul\n",
      "  x0 = solve_triangular(LD_w, (D_U @ x0) + b)\n",
      "<ipython-input-2-3a34c5dded66>:16: RuntimeWarning: overflow encountered in matmul\n",
      "  x0 = solve_triangular(LD_w, (D_U @ x0) + b)\n",
      "<ipython-input-2-3a34c5dded66>:5: RuntimeWarning: overflow encountered in matmul\n",
      "  x[i] = (b[i] - L[i,:i] @ x[:i]) / L[i,i]\n",
      "<ipython-input-2-3a34c5dded66>:5: RuntimeWarning: invalid value encountered in double_scalars\n",
      "  x[i] = (b[i] - L[i,:i] @ x[:i]) / L[i,i]\n",
      "<ipython-input-2-3a34c5dded66>:5: RuntimeWarning: overflow encountered in double_scalars\n",
      "  x[i] = (b[i] - L[i,:i] @ x[:i]) / L[i,i]\n",
      "<ipython-input-2-3a34c5dded66>:3: RuntimeWarning: divide by zero encountered in double_scalars\n",
      "  x[0] = b[0] / L[0,0]\n"
     ]
    },
    {
     "name": "stdout",
     "output_type": "stream",
     "text": [
      "88\n",
      "110\n",
      "437\n"
     ]
    },
    {
     "ename": "KeyboardInterrupt",
     "evalue": "",
     "output_type": "error",
     "traceback": [
      "\u001b[1;31m---------------------------------------------------------------------------\u001b[0m",
      "\u001b[1;31mKeyboardInterrupt\u001b[0m                         Traceback (most recent call last)",
      "\u001b[1;32m<ipython-input-16-6da90bebdc77>\u001b[0m in \u001b[0;36m<module>\u001b[1;34m\u001b[0m\n\u001b[1;32m----> 1\u001b[1;33m \u001b[0mfind_seed\u001b[0m\u001b[1;33m(\u001b[0m\u001b[1;33m)\u001b[0m\u001b[1;33m\u001b[0m\u001b[1;33m\u001b[0m\u001b[0m\n\u001b[0m",
      "\u001b[1;32m<ipython-input-15-1ffb53284aad>\u001b[0m in \u001b[0;36mfind_seed\u001b[1;34m()\u001b[0m\n\u001b[0;32m     14\u001b[0m         \u001b[1;32mtry\u001b[0m\u001b[1;33m:\u001b[0m\u001b[1;33m\u001b[0m\u001b[1;33m\u001b[0m\u001b[0m\n\u001b[0;32m     15\u001b[0m             \u001b[0mres\u001b[0m \u001b[1;33m=\u001b[0m \u001b[0mgauss_seidel_r\u001b[0m\u001b[1;33m(\u001b[0m\u001b[0mA\u001b[0m\u001b[1;33m,\u001b[0m \u001b[0mb\u001b[0m\u001b[1;33m,\u001b[0m \u001b[0mx0\u001b[0m\u001b[1;33m,\u001b[0m \u001b[0mw\u001b[0m\u001b[1;33m=\u001b[0m\u001b[1;36m0.2\u001b[0m\u001b[1;33m,\u001b[0m \u001b[0mn\u001b[0m\u001b[1;33m=\u001b[0m\u001b[1;36m500\u001b[0m\u001b[1;33m)\u001b[0m\u001b[1;33m\u001b[0m\u001b[1;33m\u001b[0m\u001b[0m\n\u001b[1;32m---> 16\u001b[1;33m             \u001b[0mres0\u001b[0m \u001b[1;33m=\u001b[0m \u001b[0mgauss_seidel_r\u001b[0m\u001b[1;33m(\u001b[0m\u001b[0mA\u001b[0m\u001b[1;33m,\u001b[0m \u001b[0mb\u001b[0m\u001b[1;33m,\u001b[0m \u001b[0mx0\u001b[0m\u001b[1;33m,\u001b[0m \u001b[0mw\u001b[0m\u001b[1;33m=\u001b[0m\u001b[1;36m1\u001b[0m\u001b[1;33m,\u001b[0m \u001b[0mn\u001b[0m\u001b[1;33m=\u001b[0m\u001b[1;36m500\u001b[0m\u001b[1;33m)\u001b[0m\u001b[1;33m\u001b[0m\u001b[1;33m\u001b[0m\u001b[0m\n\u001b[0m\u001b[0;32m     17\u001b[0m             \u001b[0me\u001b[0m \u001b[1;33m=\u001b[0m \u001b[0mnp\u001b[0m\u001b[1;33m.\u001b[0m\u001b[0mabs\u001b[0m\u001b[1;33m(\u001b[0m\u001b[0mones\u001b[0m \u001b[1;33m-\u001b[0m \u001b[0mres\u001b[0m\u001b[1;33m[\u001b[0m\u001b[1;33m-\u001b[0m\u001b[1;36m1\u001b[0m\u001b[1;33m]\u001b[0m\u001b[1;33m)\u001b[0m\u001b[1;33m\u001b[0m\u001b[1;33m\u001b[0m\u001b[0m\n\u001b[0;32m     18\u001b[0m             \u001b[0me0\u001b[0m \u001b[1;33m=\u001b[0m \u001b[0mnp\u001b[0m\u001b[1;33m.\u001b[0m\u001b[0mabs\u001b[0m\u001b[1;33m(\u001b[0m\u001b[0mones\u001b[0m \u001b[1;33m-\u001b[0m \u001b[0mres0\u001b[0m\u001b[1;33m[\u001b[0m\u001b[1;33m-\u001b[0m\u001b[1;36m1\u001b[0m\u001b[1;33m]\u001b[0m\u001b[1;33m)\u001b[0m\u001b[1;33m\u001b[0m\u001b[1;33m\u001b[0m\u001b[0m\n",
      "\u001b[1;32m<ipython-input-2-3a34c5dded66>\u001b[0m in \u001b[0;36mgauss_seidel_r\u001b[1;34m(A, b, x0, w, n)\u001b[0m\n\u001b[0;32m     14\u001b[0m     \u001b[0mx\u001b[0m \u001b[1;33m=\u001b[0m \u001b[1;33m[\u001b[0m\u001b[0mx0\u001b[0m\u001b[1;33m]\u001b[0m\u001b[1;33m\u001b[0m\u001b[1;33m\u001b[0m\u001b[0m\n\u001b[0;32m     15\u001b[0m     \u001b[1;32mfor\u001b[0m \u001b[0mi\u001b[0m \u001b[1;32min\u001b[0m \u001b[0mrange\u001b[0m\u001b[1;33m(\u001b[0m\u001b[0mn\u001b[0m\u001b[1;33m)\u001b[0m\u001b[1;33m:\u001b[0m\u001b[1;33m\u001b[0m\u001b[1;33m\u001b[0m\u001b[0m\n\u001b[1;32m---> 16\u001b[1;33m         \u001b[0mx0\u001b[0m \u001b[1;33m=\u001b[0m \u001b[0msolve_triangular\u001b[0m\u001b[1;33m(\u001b[0m\u001b[0mLD_w\u001b[0m\u001b[1;33m,\u001b[0m \u001b[1;33m(\u001b[0m\u001b[0mD_U\u001b[0m \u001b[1;33m@\u001b[0m \u001b[0mx0\u001b[0m\u001b[1;33m)\u001b[0m \u001b[1;33m+\u001b[0m \u001b[0mb\u001b[0m\u001b[1;33m)\u001b[0m\u001b[1;33m\u001b[0m\u001b[1;33m\u001b[0m\u001b[0m\n\u001b[0m\u001b[0;32m     17\u001b[0m         \u001b[0mx\u001b[0m\u001b[1;33m.\u001b[0m\u001b[0mappend\u001b[0m\u001b[1;33m(\u001b[0m\u001b[0mx0\u001b[0m\u001b[1;33m)\u001b[0m\u001b[1;33m\u001b[0m\u001b[1;33m\u001b[0m\u001b[0m\n\u001b[0;32m     18\u001b[0m     \u001b[1;32mreturn\u001b[0m \u001b[0mx\u001b[0m\u001b[1;33m\u001b[0m\u001b[1;33m\u001b[0m\u001b[0m\n",
      "\u001b[1;31mKeyboardInterrupt\u001b[0m: "
     ]
    }
   ],
   "source": [
    "find_seed()\n"
   ]
  },
  {
   "cell_type": "code",
   "execution_count": null,
   "id": "7737767b",
   "metadata": {},
   "outputs": [],
   "source": []
  }
 ],
 "metadata": {
  "kernelspec": {
   "display_name": "Python 3",
   "language": "python",
   "name": "python3"
  },
  "language_info": {
   "codemirror_mode": {
    "name": "ipython",
    "version": 3
   },
   "file_extension": ".py",
   "mimetype": "text/x-python",
   "name": "python",
   "nbconvert_exporter": "python",
   "pygments_lexer": "ipython3",
   "version": "3.8.8"
  }
 },
 "nbformat": 4,
 "nbformat_minor": 5
}
